{
 "cells": [
  {
   "cell_type": "markdown",
   "metadata": {},
   "source": [
    "# Atividade Estatistica PVAE\n",
    "O objetivo é apenas introduzir no python os conceitos que foram aprendidos durante as aulas da disciplina"
   ]
  },
  {
   "cell_type": "code",
   "execution_count": null,
   "metadata": {},
   "outputs": [],
   "source": [
    "#importando as libs\n",
    "import numpy as np\n",
    "import pandas as pd\n",
    "from sklearn.linear_model import LinearRegression\n",
    "import statsmodels.api as sm\n",
    "import matplotlib as mp"
   ]
  },
  {
   "cell_type": "markdown",
   "metadata": {},
   "source": [
    "## Questão 1\n",
    "A mensuração exata (Y) de uma substância do sangue, por meio de uma análise química, é muito cara. Um novo método mais barato resulta na medida X, que supostamente pode ser usada para prever o valor de Y. Nove amostras de sangue foram obtidas e avaliadas pelos dois métodos, obtendo-se as medidas a seguir.\n",
    "| X        | 119 | 155 | 174 | 190 | 196 | 233 | 272 | 253 |276 |\n",
    "|----------|---|---|---|---|---|---|---|---|---|\n",
    "| Y        | 112 |152 | 172 | 183  |192 |228  | 263 | 239 | 263 |\n",
    "\n",
    "\\begin{align*}\n",
    "\\sum_{i=1}^{n}x_{i} &= 1868 & \\sum_{i=1}^{n}y_{i} &= 1804 &\n",
    "\\sum_{i=1}^{n}x_{i}^{2} &= 411436 & \\sum_{i=1}^{n}y_{i}^{2} &= 383028 &\n",
    "\\sum_{i=1}^{n}x_{i}y_{i} &= 396933\n",
    "\\end{align*}\n",
    "### a) Encontre a equação de regressão estimada, $y = β_0 + β_1x$\n",
    "### b) Estime o valor da medida y no sangue, cujo valor de x = 200"
   ]
  },
  {
   "cell_type": "code",
   "execution_count": null,
   "metadata": {},
   "outputs": [],
   "source": []
  },
  {
   "cell_type": "markdown",
   "metadata": {},
   "source": [
    "## Questão 2\n",
    "Um economista está interessado em estudar a relação entre o tempo em que um indivíduo permanece desempregado e a atividade de procura por emprego entre trabalhadfores com formação específica. Ele entrevista uma amostra de 10 contadores desempregados quanto ao numero de semanas em que estiveram desempregados (X) e quanto ao numero de semanas em que estiveram a procura de emprego (Y) no ultimo ano. Usando os dados a seguir, responda o que se pede.\n",
    "| Contador | A | B | C | D  | E | F  | G | H | I | J |\n",
    "|----------|---|---|---|----|---|----|---|---|---|---|\n",
    "| X        | 2 | 7 | 5 | 12 | 1 | 10 | 8 | 6 | 5 | 2 |\n",
    "| Y        | 8 | 3 | 4 | 2  | 5 | 2  | 1 | 5 | 4 | 6 |\n",
    "\n",
    "\\begin{align*}\n",
    "\\sum_{i=1}^{n}x_{i} &= 58 & \\sum_{i=1}^{n}y_{i} &= 40 &\n",
    "\\sum_{i=1}^{n}x_{i}^{2} &= 452 & \\sum_{i=1}^{n}y_{i}^{2} &= 200 &\n",
    "\\sum_{i=1}^{n}x_{i}y_{i} &= 176\n",
    "\\end{align*}\n",
    "\n",
    "### a) Construa a tabela ANOVA para os dados deste problema\n",
    "\n",
    "#### Lembrete:\n",
    "\n",
    "\\begin{align*}\n",
    "\\sum_{i=1}^{n}(y_{i} - \\bar{y})^2 &= \\sum_{i=1}^{n}y_{i}^2 - n\\bar{y}^2 \\\\\n",
    "\\sum_{i=1}^{n}(x_{i} - \\bar{x})^2 &= \\sum_{i=1}^{n}x_{i}^2 - n\\bar{x}^2\n",
    "\\end{align*}\n",
    "\n",
    "\n"
   ]
  },
  {
   "cell_type": "code",
   "execution_count": null,
   "metadata": {},
   "outputs": [],
   "source": []
  }
 ],
 "metadata": {
  "language_info": {
   "name": "python"
  }
 },
 "nbformat": 4,
 "nbformat_minor": 2
}
